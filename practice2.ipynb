{
 "cells": [
  {
   "cell_type": "code",
   "execution_count": null,
   "id": "24178eb9",
   "metadata": {},
   "outputs": [],
   "source": [
    "\n",
    "## tasks1 calculate the area of circle\n",
    "\n",
    "\n",
    "import math\n",
    "\n",
    "def Area(r):\n",
    "    a = math.pi*r*r\n",
    "    print(a)\n",
    "    \n",
    "    \n",
    "a = float(input(\"enter the radius\"))\n",
    "Area(a)\n",
    "\n",
    "\n",
    "\n",
    "## task2 function to get largest number\n",
    "\n",
    "def fun1(a, b, c):\n",
    "    if a>b:\n",
    "        if a>c:\n",
    "            print('a')\n",
    "        else:\n",
    "            print('c')\n",
    "    else:\n",
    "        if b>c:\n",
    "            print('b')\n",
    "        else:\n",
    "            print('c')\n",
    "\n",
    "\n",
    "\n",
    "c = input('input number1')\n",
    "d = input('input number2')\n",
    "e = input('input number3')\n",
    "\n",
    "fun1(c, d, e)\n",
    "    \n",
    "\n",
    "\n"
   ]
  },
  {
   "cell_type": "code",
   "execution_count": 1,
   "id": "ed4100c3",
   "metadata": {},
   "outputs": [
    {
     "name": "stdout",
     "output_type": "stream",
     "text": [
      "1\n",
      "1\n",
      "1\n",
      "1\n",
      "1\n"
     ]
    }
   ],
   "source": [
    "\n",
    "# task3 convert vowels into 1 and consonant into 0\n",
    "def vowels(a):\n",
    "    for i in a:\n",
    "        if i.lower() in 'aeiou':\n",
    "            print('1')\n",
    "        else:\n",
    "            print('0')\n",
    "            \n",
    "\n",
    "string = input(\"enter the string\")\n",
    "vowels(string)\n",
    "\n",
    "    \n",
    "    \n",
    "\n",
    "\n"
   ]
  },
  {
   "cell_type": "code",
   "execution_count": null,
   "id": "d53f3e21",
   "metadata": {},
   "outputs": [],
   "source": [
    "\n",
    "    \n",
    "    "
   ]
  },
  {
   "cell_type": "code",
   "execution_count": null,
   "id": "11b11a3f",
   "metadata": {},
   "outputs": [],
   "source": [
    "# task4 create a calculator function with ADD, SUB, MUL, DIV\n",
    "\n",
    "def ADD(a, b):\n",
    "    c= a + b\n",
    "    print(c)\n",
    "\n",
    "def SUB(a, b):\n",
    "    c = a - b\n",
    "    print(c)\n",
    "\n",
    "def MUL(a, b):\n",
    "    c = a * b\n",
    "    print(c)\n",
    "\n",
    "def DIV(a, b):\n",
    "    c= a/b\n",
    "    print(c)\n",
    "    \n",
    "    \n",
    "\n",
    "def calculator(a, b):\n",
    "    ADD(a, b)\n",
    "    SUB(a, b)\n",
    "    MUL(a, b)\n",
    "    DIV(a, b)\n",
    "    \n",
    "    \n",
    "    \n",
    "    \n",
    "\n",
    "\n",
    "a = int(input(\"enter number1\"))\n",
    "b = int(input(\"enter number2\"))\n",
    "\n",
    "calculator(a,b)"
   ]
  },
  {
   "cell_type": "code",
   "execution_count": null,
   "id": "f0fa91f6",
   "metadata": {},
   "outputs": [],
   "source": [
    "# task5  repeat input string\n",
    "\n",
    "\n",
    "string = input(\"enter the string\")\n",
    "\n",
    "str1= string*2\n",
    "\n",
    "print(str1)"
   ]
  },
  {
   "cell_type": "code",
   "execution_count": 3,
   "id": "f0ccaa2d",
   "metadata": {},
   "outputs": [
    {
     "name": "stdout",
     "output_type": "stream",
     "text": [
      "enter uxp15\n",
      "enter rt0\n",
      "enter z1ap\n",
      "[' uxp15', ' z1ap']\n"
     ]
    }
   ],
   "source": [
    "#task6 filter to show array list of element\n",
    "\n",
    "lst1 = []\n",
    "for i in range(4):\n",
    "    k= input(\"enter\")\n",
    "    lst1.append(k)\n",
    "    \n",
    "    \n",
    "          \n",
    "obj=list(filter( lambda a: 'p' in a, lst1))\n",
    "print(obj)\n",
    "\n"
   ]
  },
  {
   "cell_type": "code",
   "execution_count": null,
   "id": "46600645",
   "metadata": {},
   "outputs": [],
   "source": [
    "\n",
    "    #reduce function to get sum of list\n",
    "    \n",
    "    "
   ]
  },
  {
   "cell_type": "code",
   "execution_count": 4,
   "id": "1a76a3b5",
   "metadata": {},
   "outputs": [
    {
     "name": "stdout",
     "output_type": "stream",
     "text": [
      "enter 4\n",
      "enter 6\n",
      "enter 7\n",
      "17\n"
     ]
    }
   ],
   "source": [
    "from functools import reduce\n",
    "\n",
    "lst2 = []\n",
    "for i in range(3):\n",
    "    k= int(input(\"enter\"))\n",
    "    lst2.append(k)\n",
    "    \n",
    "result = reduce(lambda n,m: n+m, lst2)\n",
    "print(int(result))\n",
    "    "
   ]
  },
  {
   "cell_type": "code",
   "execution_count": 5,
   "id": "4beb12a2",
   "metadata": {},
   "outputs": [
    {
     "name": "stdout",
     "output_type": "stream",
     "text": [
      "['ux1p5', 'rtp', 'ft3p', 'z1ap']\n"
     ]
    }
   ],
   "source": [
    " # task \n",
    "lst3 = [\"ux1p5\", \"rt\", \"ft3\",\"z1ap\"]\n",
    "    \n",
    "aces = list(map( lambda a: a + 'p'  if 'p' not in a  else a, lst3))\n",
    "print(aces)\n",
    "    \n",
    "\n",
    "  \n",
    "\n",
    "    \n",
    "    \n",
    "    \n",
    "\n"
   ]
  },
  {
   "cell_type": "code",
   "execution_count": null,
   "id": "a650f535",
   "metadata": {},
   "outputs": [],
   "source": []
  },
  {
   "cell_type": "code",
   "execution_count": null,
   "id": "6b2a4222",
   "metadata": {},
   "outputs": [],
   "source": []
  },
  {
   "cell_type": "code",
   "execution_count": null,
   "id": "690596a4",
   "metadata": {},
   "outputs": [],
   "source": []
  }
 ],
 "metadata": {
  "kernelspec": {
   "display_name": "Python 3 (ipykernel)",
   "language": "python",
   "name": "python3"
  },
  "language_info": {
   "codemirror_mode": {
    "name": "ipython",
    "version": 3
   },
   "file_extension": ".py",
   "mimetype": "text/x-python",
   "name": "python",
   "nbconvert_exporter": "python",
   "pygments_lexer": "ipython3",
   "version": "3.10.8"
  }
 },
 "nbformat": 4,
 "nbformat_minor": 5
}
